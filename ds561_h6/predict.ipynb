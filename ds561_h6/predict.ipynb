{
 "cells": [
  {
   "cell_type": "code",
   "execution_count": 1,
   "metadata": {},
   "outputs": [],
   "source": [
    "from sklearn.model_selection import train_test_split\n",
    "from sklearn.metrics import accuracy_score\n",
    "import pandas as pd\n",
    "from sklearn.ensemble import RandomForestClassifier"
   ]
  },
  {
   "cell_type": "code",
   "execution_count": 2,
   "metadata": {},
   "outputs": [],
   "source": [
    "df = pd.read_csv(\"data.csv\").dropna()"
   ]
  },
  {
   "cell_type": "code",
   "execution_count": 3,
   "metadata": {},
   "outputs": [
    {
     "name": "stdout",
     "output_type": "stream",
     "text": [
      "0                mali\n",
      "1                iran\n",
      "2             czechia\n",
      "3               haiti\n",
      "4        saudi arabia\n",
      "             ...     \n",
      "93451    turkmenistan\n",
      "93452      cabo verde\n",
      "93453     philippines\n",
      "93454         ukraine\n",
      "93455            laos\n",
      "Name: country, Length: 93456, dtype: object\n",
      "0          0\n",
      "1          1\n",
      "2          2\n",
      "3          3\n",
      "4          4\n",
      "        ... \n",
      "93451     48\n",
      "93452    165\n",
      "93453    111\n",
      "93454     91\n",
      "93455     77\n",
      "Name: country, Length: 93456, dtype: int64\n"
     ]
    }
   ],
   "source": [
    "# enumerating the country column\n",
    "print(df['country'])\n",
    "country_mapping = {country: i for i, country in enumerate(df['country'].unique())}\n",
    "df['country'] = df['country'].map(country_mapping)\n",
    "print(df['country'])"
   ]
  },
  {
   "cell_type": "code",
   "execution_count": 4,
   "metadata": {},
   "outputs": [
    {
     "name": "stdout",
     "output_type": "stream",
     "text": [
      "0        4861.html\n",
      "1        1691.html\n",
      "2        6103.html\n",
      "3        2321.html\n",
      "4        2836.html\n",
      "           ...    \n",
      "93451    2282.html\n",
      "93452    6409.html\n",
      "93453    4712.html\n",
      "93454    5798.html\n",
      "93455    8387.html\n",
      "Name: name, Length: 93456, dtype: object\n",
      "0           0\n",
      "1           1\n",
      "2           2\n",
      "3           3\n",
      "4           4\n",
      "         ... \n",
      "93451    2631\n",
      "93452    9876\n",
      "93453    2464\n",
      "93454    5774\n",
      "93455    8094\n",
      "Name: name, Length: 93456, dtype: int64\n"
     ]
    }
   ],
   "source": [
    "# enumerating the name column\n",
    "print(df['name'])\n",
    "name_mapping = {name: i for i, name in enumerate(df['name'].unique())}\n",
    "df['name'] = df['name'].map(name_mapping)\n",
    "print(df['name'])"
   ]
  },
  {
   "cell_type": "code",
   "execution_count": 5,
   "metadata": {},
   "outputs": [
    {
     "name": "stdout",
     "output_type": "stream",
     "text": [
      "0        2023-11-02 16:00:00\n",
      "1        2023-11-02 08:00:00\n",
      "2        2023-11-02 11:00:00\n",
      "3        2023-11-02 06:00:00\n",
      "4        2023-11-02 12:00:00\n",
      "                ...         \n",
      "93451    2023-11-03 13:00:00\n",
      "93452    2023-11-03 16:00:00\n",
      "93453    2023-11-03 23:00:00\n",
      "93454    2023-11-03 05:00:00\n",
      "93455    2023-11-03 11:00:00\n",
      "Name: time, Length: 93456, dtype: object\n",
      "0         0\n",
      "1         1\n",
      "2         2\n",
      "3         3\n",
      "4         4\n",
      "         ..\n",
      "93451    45\n",
      "93452    42\n",
      "93453    31\n",
      "93454    43\n",
      "93455    47\n",
      "Name: time, Length: 93456, dtype: int64\n"
     ]
    }
   ],
   "source": [
    "# enumerating the time column\n",
    "print(df['time'])\n",
    "name_mapping = {time: i for i, time in enumerate(df['time'].unique())}\n",
    "df['time'] = df['time'].map(name_mapping)\n",
    "print(df['time'])"
   ]
  },
  {
   "cell_type": "code",
   "execution_count": 6,
   "metadata": {},
   "outputs": [
    {
     "name": "stdout",
     "output_type": "stream",
     "text": [
      "0          40k-60k\n",
      "1            0-10k\n",
      "2          20k-40k\n",
      "3          20k-40k\n",
      "4        150k-250k\n",
      "           ...    \n",
      "93451      20k-40k\n",
      "93452      20k-40k\n",
      "93453    150k-250k\n",
      "93454      10k-20k\n",
      "93455      40k-60k\n",
      "Name: income, Length: 93456, dtype: object\n",
      "0        0\n",
      "1        1\n",
      "2        2\n",
      "3        2\n",
      "4        3\n",
      "        ..\n",
      "93451    2\n",
      "93452    2\n",
      "93453    3\n",
      "93454    4\n",
      "93455    0\n",
      "Name: income, Length: 93456, dtype: int64\n"
     ]
    }
   ],
   "source": [
    "# enumerating the income column\n",
    "print(df['income'])\n",
    "name_mapping = {income: i for i, income in enumerate(df['income'].unique())}\n",
    "df['income'] = df['income'].map(name_mapping)\n",
    "print(df['income'])"
   ]
  },
  {
   "cell_type": "code",
   "execution_count": 7,
   "metadata": {},
   "outputs": [
    {
     "name": "stdout",
     "output_type": "stream",
     "text": [
      "Index(['request_id', 'gender', 'age', 'income', 'time', 'ip_address', 'name',\n",
      "       'country', 'is_banned'],\n",
      "      dtype='object')\n",
      "Index(['request_id', 'gender', 'age', 'income', 'time', 'name', 'country',\n",
      "       'is_banned', 'ip_1', 'ip_2', 'ip_3', 'ip_4'],\n",
      "      dtype='object')\n"
     ]
    }
   ],
   "source": [
    "# feature extraction of ip_address\n",
    "print(df.columns)\n",
    "df[['ip_1', 'ip_2', 'ip_3', 'ip_4']] = df['ip_address'].str.split('.', expand=True).astype(int)\n",
    "df = df.drop('ip_address', axis=1)\n",
    "print(df.columns)"
   ]
  },
  {
   "cell_type": "code",
   "execution_count": 8,
   "metadata": {},
   "outputs": [
    {
     "name": "stdout",
     "output_type": "stream",
     "text": [
      "['gender', 'age']\n",
      "Index(['request_id', 'income', 'time', 'name', 'country', 'is_banned', 'ip_1',\n",
      "       'ip_2', 'ip_3', 'ip_4', 'gender_Female', 'gender_Male', 'age_0-16',\n",
      "       'age_17-25', 'age_26-35', 'age_36-45', 'age_46-55', 'age_56-65',\n",
      "       'age_66-75', 'age_76+'],\n",
      "      dtype='object')\n"
     ]
    }
   ],
   "source": [
    "# one hot encoding remaining categorical columns\n",
    "data_columns_categorical = list(df.dtypes[df.dtypes == 'object'].index)\n",
    "print(data_columns_categorical)\n",
    "\n",
    "data_cleaned = pd.get_dummies(df, columns=data_columns_categorical)\n",
    "print(data_cleaned.columns)"
   ]
  },
  {
   "cell_type": "code",
   "execution_count": 9,
   "metadata": {},
   "outputs": [
    {
     "name": "stdout",
     "output_type": "stream",
     "text": [
      "   request_id  income  time  name  country  is_banned  ip_1  ip_2  ip_3  ip_4  \\\n",
      "0           1       0     0     0        0          0    71   169   239   175   \n",
      "1           2       1     1     1        1          1    10   108   130   210   \n",
      "2           3       2     2     2        2          0    74    67   246   113   \n",
      "3           4       2     3     3        3          0    29    96   232     2   \n",
      "4           5       3     4     4        4          0   161    88    37    41   \n",
      "\n",
      "   gender_Female  gender_Male  age_0-16  age_17-25  age_26-35  age_36-45  \\\n",
      "0           True        False     False      False       True      False   \n",
      "1          False         True     False      False       True      False   \n",
      "2           True        False     False      False      False      False   \n",
      "3          False         True     False      False      False      False   \n",
      "4          False         True     False      False      False      False   \n",
      "\n",
      "   age_46-55  age_56-65  age_66-75  age_76+  \n",
      "0      False      False      False    False  \n",
      "1      False      False      False    False  \n",
      "2       True      False      False    False  \n",
      "3      False      False       True    False  \n",
      "4      False      False       True    False  \n"
     ]
    }
   ],
   "source": [
    "print(data_cleaned.head())"
   ]
  },
  {
   "cell_type": "code",
   "execution_count": 10,
   "metadata": {},
   "outputs": [
    {
     "name": "stdout",
     "output_type": "stream",
     "text": [
      "Accuracy with Best Model: 0.9843421193422977\n"
     ]
    }
   ],
   "source": [
    "# model 1\n",
    "X = data_cleaned[['ip_1', 'ip_2', 'ip_3', 'ip_4']]\n",
    "y = data_cleaned['country']\n",
    "\n",
    "X_train, X_test, y_train, y_test = train_test_split(X, y, test_size=0.3, random_state=0)\n",
    "\n",
    "model = RandomForestClassifier(n_estimators=100, random_state=0)\n",
    "model.fit(X_train, y_train)\n",
    "\n",
    "y_pred = model.predict(X_test)\n",
    "accuracy = accuracy_score(y_test, y_pred)\n",
    "\n",
    "print(\"Accuracy with Best Model:\", accuracy)"
   ]
  },
  {
   "cell_type": "code",
   "execution_count": 11,
   "metadata": {},
   "outputs": [
    {
     "name": "stdout",
     "output_type": "stream",
     "text": [
      "Index(['request_id', 'time', 'name', 'country', 'is_banned', 'ip_1', 'ip_2',\n",
      "       'ip_3', 'ip_4', 'gender_Female', 'gender_Male', 'age_0-16', 'age_17-25',\n",
      "       'age_26-35', 'age_36-45', 'age_46-55', 'age_56-65', 'age_66-75',\n",
      "       'age_76+'],\n",
      "      dtype='object')\n",
      "Accuracy with Best Model: 0.12529871241573634\n"
     ]
    }
   ],
   "source": [
    "# model 2\n",
    "y = data_cleaned['income']\n",
    "X = data_cleaned.drop(['income'], axis=1)\n",
    "print(X.columns)\n",
    "\n",
    "X_train, X_test, y_train, y_test = train_test_split(X, y, test_size=0.3, random_state=0)\n",
    "\n",
    "model = RandomForestClassifier(n_estimators=100, random_state=0)\n",
    "model.fit(X_train, y_train)\n",
    "\n",
    "y_pred = model.predict(X_test)\n",
    "accuracy = accuracy_score(y_test, y_pred)\n",
    "\n",
    "print(\"Accuracy with Best Model:\", accuracy)"
   ]
  }
 ],
 "metadata": {
  "kernelspec": {
   "display_name": "Python 3",
   "language": "python",
   "name": "python3"
  },
  "language_info": {
   "codemirror_mode": {
    "name": "ipython",
    "version": 3
   },
   "file_extension": ".py",
   "mimetype": "text/x-python",
   "name": "python",
   "nbconvert_exporter": "python",
   "pygments_lexer": "ipython3",
   "version": "3.8.2"
  }
 },
 "nbformat": 4,
 "nbformat_minor": 2
}
